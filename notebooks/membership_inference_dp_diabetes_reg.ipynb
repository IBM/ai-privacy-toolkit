{
 "cells": [
  {
   "cell_type": "markdown",
   "metadata": {},
   "source": [
    "# Using ML anonymization to defend against membership inference attacks"
   ]
  },
  {
   "cell_type": "markdown",
   "metadata": {},
   "source": [
    "In this tutorial we will show how to anonymize models using the ML anonymization module. \n",
    "\n",
    "We will demonstrate running inference attacks both on a vanilla model, and then on an anonymized version of the model. We will run a black-box membership inference attack using ART's inference module (https://github.com/Trusted-AI/adversarial-robustness-toolbox/tree/main/art/attacks/inference). \n",
    "\n",
    "This will be demonstarted using the Adult dataset (original dataset can be found here: https://archive.ics.uci.edu/ml/datasets/nursery). \n",
    "\n",
    "For simplicity, we used only the numerical features in the dataset."
   ]
  },
  {
   "cell_type": "markdown",
   "metadata": {},
   "source": [
    "## Load data"
   ]
  },
  {
   "cell_type": "code",
   "execution_count": 12,
   "metadata": {},
   "outputs": [],
   "source": [
    "import numpy as np\n",
    "from sklearn.datasets import load_diabetes\n",
    "from sklearn.model_selection import train_test_split\n",
    "\n",
    "dataset = load_diabetes()\n",
    "X_train, X_test, y_train, y_test = train_test_split(dataset.data, dataset.target, test_size=0.5, random_state=14)"
   ]
  },
  {
   "cell_type": "markdown",
   "metadata": {},
   "source": [
    "## Train linear regression model"
   ]
  },
  {
   "cell_type": "code",
   "execution_count": 13,
   "metadata": {},
   "outputs": [
    {
     "name": "stdout",
     "output_type": "stream",
     "text": [
      "Base model accuracy (R2 score):  0.5080618258593723\n"
     ]
    }
   ],
   "source": [
    "from sklearn.linear_model import LinearRegression\n",
    "from art.estimators.regression.scikitlearn import ScikitlearnRegressor\n",
    "\n",
    "model = LinearRegression()\n",
    "model.fit(X_train, y_train)\n",
    "\n",
    "art_classifier = ScikitlearnRegressor(model)\n",
    "\n",
    "print('Base model accuracy (R2 score): ', model.score(X_test, y_test))\n",
    "\n",
    "x_train_predictions = np.array([np.argmax(arr) for arr in art_classifier.predict(X_train)]).reshape(-1,1)"
   ]
  },
  {
   "cell_type": "markdown",
   "metadata": {},
   "source": [
    "## Attack\n",
    "The black-box attack basically trains an additional classifier (called the attack model) to predict the membership status of a sample.\n",
    "#### Train attack model"
   ]
  },
  {
   "cell_type": "code",
   "execution_count": 14,
   "metadata": {},
   "outputs": [
    {
     "name": "stdout",
     "output_type": "stream",
     "text": [
      "0.5180180180180181\n"
     ]
    }
   ],
   "source": [
    "from art.attacks.inference.membership_inference import MembershipInferenceBlackBox\n",
    "\n",
    "# attack_model_type can be nn (neural network), rf (random forest) or gb (gradient boosting)\n",
    "bb_attack = MembershipInferenceBlackBox(art_classifier, attack_model_type='nn', input_type='loss')\n",
    "\n",
    "# use half of each dataset for training the attack\n",
    "attack_train_ratio = 0.5\n",
    "attack_train_size = int(len(X_train) * attack_train_ratio)\n",
    "attack_test_size = int(len(X_test) * attack_train_ratio)\n",
    "\n",
    "# train attack model\n",
    "bb_attack.fit(X_train[:attack_train_size], y_train[:attack_train_size],\n",
    "              X_test[:attack_test_size], y_test[:attack_test_size])\n",
    "\n",
    "# get inferred values for remaining half\n",
    "inferred_train_bb = bb_attack.infer(X_train[attack_train_size:], y_train[attack_train_size:])\n",
    "inferred_test_bb = bb_attack.infer(X_test[attack_test_size:], y_test[attack_test_size:])\n",
    "# check accuracy\n",
    "train_acc = np.sum(inferred_train_bb) / len(inferred_train_bb)\n",
    "test_acc = 1 - (np.sum(inferred_test_bb) / len(inferred_test_bb))\n",
    "acc = (train_acc * len(inferred_train_bb) + test_acc * len(inferred_test_bb)) / (len(inferred_train_bb) + len(inferred_test_bb))\n",
    "print(acc)"
   ]
  },
  {
   "cell_type": "markdown",
   "metadata": {},
   "source": [
    "This means that for 52% of the data, membership is inferred correctly using this attack."
   ]
  },
  {
   "cell_type": "code",
   "execution_count": 15,
   "metadata": {},
   "outputs": [
    {
     "name": "stdout",
     "output_type": "stream",
     "text": [
      "R2 score for epsilon=1.00: -1712656.16\n"
     ]
    },
    {
     "data": {
      "text/plain": [
       "array([[-7.96275280e+08, -5.37946486e+06, -2.17894102e+05],\n",
       "       [-4.15389178e+08, -3.10233172e+06, -2.11549578e+05],\n",
       "       [-6.37736327e+06, -3.99776144e+05, -4.88933884e+01],\n",
       "       [-3.31897698e+08, -1.12975501e+06, -1.44462912e+04],\n",
       "       [-8.06570531e+07,  4.02586813e-01,  5.15112258e-01]])"
      ]
     },
     "execution_count": 15,
     "metadata": {},
     "output_type": "execute_result"
    }
   ],
   "source": [
    "from diffprivlib.models import LinearRegression as DPLinearRegression\n",
    "import matplotlib.pyplot as plt\n",
    "\n",
    "def attack(model, attack_train_ratio=0.5):\n",
    "    dp_art_classifier = ScikitlearnRegressor(model)\n",
    "    \n",
    "    # attack_model_type can be nn (neural network), rf (random forest) or gb (gradient boosting)\n",
    "    bb_attack = MembershipInferenceBlackBox(dp_art_classifier, attack_model_type='nn', input_type='loss')\n",
    "\n",
    "    # use half of each dataset for training the attack\n",
    "    attack_train_ratio = 0.5\n",
    "    attack_train_size = int(len(X_train) * attack_train_ratio)\n",
    "    attack_test_size = int(len(X_test) * attack_train_ratio)\n",
    "\n",
    "    # train attack model\n",
    "    bb_attack.fit(X_train[:attack_train_size], y_train[:attack_train_size],\n",
    "                  X_test[:attack_test_size], y_test[:attack_test_size])\n",
    "\n",
    "    # get inferred values for remaining half\n",
    "    inferred_train_bb = bb_attack.infer(X_train[attack_train_size:], y_train[attack_train_size:])\n",
    "    inferred_test_bb = bb_attack.infer(X_test[attack_test_size:], y_test[attack_test_size:])\n",
    "    # check accuracy\n",
    "    train_acc = np.sum(inferred_train_bb) / len(inferred_train_bb)\n",
    "    test_acc = 1 - (np.sum(inferred_test_bb) / len(inferred_test_bb))\n",
    "    acc = (train_acc * len(inferred_train_bb) + test_acc * len(inferred_test_bb)) / (len(inferred_train_bb) + len(inferred_test_bb))\n",
    "    return acc\n",
    "\n",
    "regr = DPLinearRegression(bounds_X=(-0.138, 0.2), bounds_y=(25, 346))\n",
    "regr.fit(X_train, y_train)\n",
    "\n",
    "print(\"R2 score for epsilon=%.2f: %.2f\" % (regr.epsilon, regr.score(X_test, y_test)))\n",
    "\n",
    "epsilons = np.logspace(-1, 3, 5)\n",
    "min_med_max = []\n",
    "attack_min_med_max = []\n",
    "runs = 100\n",
    "\n",
    "for eps in epsilons:\n",
    "    accuracy = []\n",
    "    _train_acc = []\n",
    "    _attack_acc = []\n",
    "    for _ in range(runs):\n",
    "        model = DPLinearRegression(epsilon=eps, bounds_X=(-0.138, 0.2), bounds_y=(25, 346))\n",
    "        model.fit(X_train, y_train)\n",
    "        accuracy.append(model.score(X_test, y_test))\n",
    "        _train_acc.append(model.score(X_test, y_test))\n",
    "        _attack_acc.append(attack(model))\n",
    "        \n",
    "    min_med_max.append(list(np.quantile(accuracy, (0.05, 0.5, 0.95))))\n",
    "    attack_min_med_max.append(np.quantile(_attack_acc, (0.05, 0.5, 0.95)))\n",
    "    \n",
    "out = np.array(min_med_max)\n",
    "\n",
    "out"
   ]
  },
  {
   "cell_type": "code",
   "execution_count": 12,
   "metadata": {},
   "outputs": [
    {
     "data": {
      "image/png": "[encoded data removed]",
      "text/plain": [
       "<Figure size 432x288 with 1 Axes>"
      ]
     },
     "metadata": {
      "needs_background": "light"
     },
     "output_type": "display_data"
    }
   ],
   "source": [
    "plt.semilogx(epsilons, out[:, 0], label=\"5th Percentile\", zorder=10)\n",
    "plt.semilogx(epsilons, out[:, 1], label=\"Median\", zorder=10)\n",
    "plt.semilogx(epsilons, out[:, 2], label=\"95th Percentile\", zorder=10)\n",
    "plt.ylim(-1, 1)\n",
    "plt.legend()\n",
    "plt.show()"
   ]
  },
  {
   "cell_type": "code",
   "execution_count": 16,
   "metadata": {},
   "outputs": [
    {
     "data": {
      "text/plain": [
       "array([[0.5       , 0.5       , 0.5       ],\n",
       "       [0.5       , 0.5       , 0.5       ],\n",
       "       [0.5       , 0.5       , 0.5       ],\n",
       "       [0.5       , 0.5       , 0.5       ],\n",
       "       [0.48175676, 0.5       , 0.51801802]])"
      ]
     },
     "execution_count": 16,
     "metadata": {},
     "output_type": "execute_result"
    }
   ],
   "source": [
    "attack_min_med_max = np.array(attack_min_med_max)\n",
    "\n",
    "attack_min_med_max"
   ]
  },
  {
   "cell_type": "code",
   "execution_count": 9,
   "metadata": {},
   "outputs": [
    {
     "data": {
      "image/png": "[encoded data removed]",
      "text/plain": [
       "<Figure size 432x288 with 1 Axes>"
      ]
     },
     "metadata": {
      "needs_background": "light"
     },
     "output_type": "display_data"
    }
   ],
   "source": [
    "plt.semilogx(epsilons, attack_min_med_max[:, 0], label=\"5th Percentile\")\n",
    "plt.semilogx(epsilons, attack_min_med_max[:, 1], label=\"Median\")\n",
    "plt.semilogx(epsilons, attack_min_med_max[:, 2], label=\"95th Percentile\")\n",
    "plt.ylim(0, 1)\n",
    "plt.legend()\n",
    "plt.ylabel(\"Attack accuracy\")\n",
    "plt.xlabel(\"Epsilon\")\n",
    "plt.show()"
   ]
  },
  {
   "cell_type": "markdown",
   "metadata": {},
   "source": [
    "### ML Anonymization - doesn't support rgression yet"
   ]
  },
  {
   "cell_type": "code",
   "execution_count": 10,
   "metadata": {},
   "outputs": [
    {
     "name": "stdout",
     "output_type": "stream",
     "text": [
      "unique rows in original data:  221\n",
      "k values:  [5, 10, 20, 50, 75]\n",
      "unique rows: [1, 1, 1, 1, 1]\n",
      "model accuracy: [-0.0318645415786456, -0.0318645415786456, -0.0318645415786456, -0.0318645415786456, -0.0318645415786456]\n",
      "attack accuracy: [0.5630630630630631, 0.5720720720720721, 0.5765765765765766, 0.5765765765765766, 0.5675675675675675]\n"
     ]
    }
   ],
   "source": [
    "from apt.anonymization import Anonymize\n",
    "k_values=[5, 10, 20, 50, 75]\n",
    "model_accuracy = []\n",
    "attack_accuracy = []\n",
    "unique_values = []\n",
    "\n",
    "# QI = all\n",
    "QI = [0, 1, 2, 3, 4, 5, 6, 7, 8, 9]\n",
    "print('unique rows in original data: ', len(np.unique(X_train, axis=0)))\n",
    "\n",
    "for k in k_values:\n",
    "    anonymizer = Anonymize(k, QI)\n",
    "    anon = anonymizer.anonymize(X_train, x_train_predictions)\n",
    "    unique_values.append(len(np.unique(anon, axis=0)))\n",
    "    \n",
    "    anon_model = LinearRegression()\n",
    "    anon_model.fit(anon, y_train)\n",
    "\n",
    "    anon_art_classifier = ScikitlearnRegressor(anon_model)\n",
    "\n",
    "    model_accuracy.append(anon_model.score(X_test, y_test))\n",
    "    \n",
    "    anon_bb_attack = MembershipInferenceBlackBox(anon_art_classifier, attack_model_type='rf', input_type='loss')\n",
    "\n",
    "    # train attack model\n",
    "    anon_bb_attack.fit(X_train[:attack_train_size], y_train[:attack_train_size],\n",
    "                       X_test[:attack_test_size], y_test[:attack_test_size])\n",
    "\n",
    "    # get inferred values\n",
    "    anon_inferred_train_bb = anon_bb_attack.infer(X_train[attack_train_size:], y_train[attack_train_size:])\n",
    "    anon_inferred_test_bb = anon_bb_attack.infer(X_test[attack_test_size:], y_test[attack_test_size:])\n",
    "    # check accuracy\n",
    "    anon_train_acc = np.sum(anon_inferred_train_bb) / len(anon_inferred_train_bb)\n",
    "    anon_test_acc = 1 - (np.sum(anon_inferred_test_bb) / len(anon_inferred_test_bb))\n",
    "    anon_acc = (anon_train_acc * len(anon_inferred_train_bb) + anon_test_acc * len(anon_inferred_test_bb)) / (len(anon_inferred_train_bb) + len(anon_inferred_test_bb))\n",
    "    attack_accuracy.append(anon_acc)\n",
    "    \n",
    "print('k values: ', k_values)\n",
    "print('unique rows:', unique_values)\n",
    "print('model accuracy:', model_accuracy)\n",
    "print('attack accuracy:', attack_accuracy)"
   ]
  },
  {
   "cell_type": "code",
   "execution_count": null,
   "metadata": {},
   "outputs": [],
   "source": []
  }
 ],
 "metadata": {
  "kernelspec": {
   "display_name": "Python 3",
   "language": "python",
   "name": "python3"
  },
  "language_info": {
   "codemirror_mode": {
    "name": "ipython",
    "version": 3
   },
   "file_extension": ".py",
   "mimetype": "text/x-python",
   "name": "python",
   "nbconvert_exporter": "python",
   "pygments_lexer": "ipython3",
   "version": "3.8.3"
  }
 },
 "nbformat": 4,
 "nbformat_minor": 2
}
