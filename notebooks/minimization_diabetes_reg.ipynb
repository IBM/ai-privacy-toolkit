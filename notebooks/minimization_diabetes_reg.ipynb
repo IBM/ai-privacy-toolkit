{
 "cells": [
  {
   "cell_type": "markdown",
   "metadata": {
    "collapsed": true,
    "pycharm": {
     "name": "#%% md\n"
    }
   },
   "source": [
    "# Applying data minimization to a trained regression ML model"
   ]
  },
  {
   "cell_type": "markdown",
   "source": [
    "In this tutorial we will show how to perform data minimization for regression ML models using the minimization module.\n",
    "\n",
    "We will show you applying data minimization to a different trained regression models."
   ],
   "metadata": {
    "collapsed": false
   }
  },
  {
   "cell_type": "markdown",
   "source": [
    "## Load data\n",
    "QI parameter determines which features will be minimized."
   ],
   "metadata": {
    "collapsed": false,
    "pycharm": {
     "name": "#%% md\n"
    }
   }
  },
  {
   "cell_type": "code",
   "execution_count": 22,
   "outputs": [],
   "source": [
    "from sklearn.datasets import load_diabetes\n",
    "from sklearn.model_selection import train_test_split\n",
    "\n",
    "dataset = load_diabetes()\n",
    "X_train, X_test, y_train, y_test = train_test_split(dataset.data, dataset.target, test_size=0.5, random_state=14)\n",
    "\n",
    "features = ['age', 'sex', 'bmi', 'bp',\n",
    "                's1', 's2', 's3', 's4', 's5', 's6']\n",
    "QI = [0, 2, 5, 8, 9]"
   ],
   "metadata": {
    "collapsed": false,
    "pycharm": {
     "name": "#%%\n"
    }
   }
  },
  {
   "cell_type": "markdown",
   "source": [
    "## Train DecisionTreeRegressor model"
   ],
   "metadata": {
    "collapsed": false
   }
  },
  {
   "cell_type": "code",
   "execution_count": 23,
   "outputs": [
    {
     "name": "stdout",
     "output_type": "stream",
     "text": [
      "Base model accuracy (R2 score):  0.15014421352446072\n"
     ]
    }
   ],
   "source": [
    "from apt.minimization import GeneralizeToRepresentative\n",
    "from sklearn.tree import DecisionTreeRegressor\n",
    "\n",
    "model = DecisionTreeRegressor(random_state=10, min_samples_split=2)\n",
    "model.fit(X_train, y_train)\n",
    "pred = model.predict(X_train)\n",
    "print('Base model accuracy (R2 score): ', model.score(X_test, y_test))"
   ],
   "metadata": {
    "collapsed": false,
    "pycharm": {
     "name": "#%%\n"
    }
   }
  },
  {
   "cell_type": "markdown",
   "source": [
    "## Run minimization\n",
    "We will try to run minimization with only a subset of the features."
   ],
   "metadata": {
    "collapsed": false
   }
  },
  {
   "cell_type": "code",
   "execution_count": 24,
   "outputs": [
    {
     "name": "stdout",
     "output_type": "stream",
     "text": [
      "Initial accuracy of model on generalized data, relative to original model predictions (base generalization derived from tree, before improvements): 0.365257\n",
      "Improving accuracy\n",
      "feature to remove: s5\n",
      "Removed feature: s5, new relative accuracy: 0.597736\n",
      "feature to remove: s6\n",
      "Removed feature: s6, new relative accuracy: 0.749938\n",
      "Base model accuracy (R2 score) after anonymization:  -0.1704892941317131\n",
      "{'ranges': {'age': [-0.06181889958679676, -0.05637009255588055, -0.05455382354557514, -0.04183994047343731, -0.03094232501462102, -0.030942323617637157, -0.020044708566274494, -0.009147094562649727, -0.009147092700004578, -0.001882016600575298, 0.0035667913616634905, 0.00538305938243866, 0.007199329789727926, 0.02354575227946043, 0.02899456024169922, 0.03444336913526058, 0.036259636748582125, 0.03625963814556599, 0.03807590529322624, 0.06168740428984165, 0.07258502021431923, 0.07621755823493004, 0.08348263800144196, 0.1034616008400917], 'bmi': [-0.07626373693346977, -0.060635464265942574, -0.05578530766069889, -0.04985734261572361, -0.042312657460570335, -0.03422906715422869, -0.03261234890669584, -0.02614547684788704, -0.025067666545510292, -0.022373135201632977, -0.022373134270310402, -0.016984074376523495, -0.014289544895291328, -0.01375063881278038, -0.007822672137990594, 0.005111072678118944, 0.008344509289599955, 0.018583723925985396, 0.02020044159144163, 0.022894972003996372, 0.024511689320206642, 0.051995899528265, 0.07301323488354683, 0.08486916497349739, 0.09349166229367256, 0.11828133836388588], 's2': [-0.1044962927699089, -0.07521691545844078, -0.0608120858669281, -0.059089768677949905, -0.0398311372846365, -0.022138250060379505, -0.01963306125253439, -0.018067320343106985, -0.017910746857523918, -0.015562132000923157, -0.014935835497453809, -0.011960925068706274, -0.011647776234894991, -0.01039518229663372, -0.008516291971318424, -0.007263698382303119, 0.020919663831591606, 0.021389387547969818, 0.03109698765911162, 0.032036433927714825, 0.036420512944459915, 0.04847672954201698, 0.06460387445986271, 0.08339278399944305]}, 'categories': {}, 'untouched': ['s3', 's6', 'bp', 's4', 's5', 'sex', 's1']}\n"
     ]
    }
   ],
   "source": [
    "# note that is_regression param is True\n",
    "gen = GeneralizeToRepresentative(model, target_accuracy=0.7, features=features, is_regression=True,\n",
    "                                 features_to_minimize=QI)\n",
    "gen.fit(X_train, pred)\n",
    "transformed = gen.transform(X_train)\n",
    "model.fit(transformed, y_train)\n",
    "print('Base model accuracy (R2 score) after anonymization: ', model.score(X_test, y_test))\n",
    "print(gen.generalizations_)"
   ],
   "metadata": {
    "collapsed": false,
    "pycharm": {
     "name": "#%%\n"
    }
   }
  },
  {
   "cell_type": "markdown",
   "source": [
    "## Train linear regression model"
   ],
   "metadata": {
    "collapsed": false
   }
  },
  {
   "cell_type": "code",
   "execution_count": 25,
   "outputs": [
    {
     "name": "stdout",
     "output_type": "stream",
     "text": [
      "Base model accuracy (R2 score):  0.5080618258593721\n"
     ]
    }
   ],
   "source": [
    "from sklearn.linear_model import LinearRegression\n",
    "from apt.minimization import GeneralizeToRepresentative\n",
    "\n",
    "model = LinearRegression()\n",
    "model.fit(X_train, y_train)\n",
    "pred = model.predict(X_train)\n",
    "print('Base model accuracy (R2 score): ', model.score(X_test, y_test))"
   ],
   "metadata": {
    "collapsed": false,
    "pycharm": {
     "name": "#%%\n"
    }
   }
  },
  {
   "cell_type": "markdown",
   "source": [
    "## Run minimization\n",
    "We will try to run minimization with only a subset of the features."
   ],
   "metadata": {
    "collapsed": false
   }
  },
  {
   "cell_type": "code",
   "execution_count": 26,
   "outputs": [
    {
     "name": "stdout",
     "output_type": "stream",
     "text": [
      "Initial accuracy of model on generalized data, relative to original model predictions (base generalization derived from tree, before improvements): 0.282418\n",
      "Improving accuracy\n",
      "feature to remove: s2\n",
      "Removed feature: s2, new relative accuracy: 0.791109\n",
      "Base model accuracy (R2 score) after anonymization:  0.5031250541011055\n",
      "{'ranges': {'age': [-0.09451174736022949, -0.06908397749066353, -0.04728874587453902, -0.04547247849404812, -0.036391133442521095, -0.02186097763478756, -0.010963361710309982, -6.574764847755432e-05, -6.574718281626701e-05, 0.02354575227946043, 0.028994559310376644, 0.030810829252004623, 0.03625963628292084, 0.03625963721424341, 0.04897352308034897, 0.05442233011126518, 0.07440128922462463], 'bmi': [-0.08542514219880104, -0.07249139621853828, -0.06656342931091785, -0.06279108859598637, -0.048779530450701714, -0.039618127048015594, -0.036384690552949905, -0.03261234890669584, -0.028301101177930832, -0.022373134270310402, -0.02183422911912203, -0.019139699637889862, -0.012133920565247536, -0.008361578569747508, 0.0013387303915806115, 0.0029554484644904733, 0.009422320872545242, 0.009422321105375886, 0.021278253756463528, 0.02343387808650732, 0.02774512581527233, 0.03690652921795845, 0.041217777878046036, 0.04337340220808983, 0.044451214373111725, 0.04606793262064457, 0.0509180873632431, 0.06169620715081692, 0.07516885735094547, 0.09564728662371635], 's5': [-0.0752229243516922, -0.06032464653253555, -0.05854439549148083, -0.051413631066679955, -0.04596390202641487, -0.040515607222914696, -0.03137132711708546, -0.03082618024200201, -0.028351817280054092, -0.026072445325553417, -0.019755974411964417, -0.017058268189430237, -0.01342858001589775, -0.010422351770102978, -0.0075321325566619635, -0.003321947471704334, 0.0006992931303102523, 0.002435805508866906, 0.006463849043939263, 0.015194777864962816, 0.017034215852618217, 0.022051111154723912, 0.02233245689421892, 0.03320487681776285, 0.041370254941284657, 0.04295849706977606, 0.05421203747391701, 0.07008941657841206, 0.0712050311267376, 0.07698211632668972, 0.12418170273303986], 's6': [-0.09013299643993378, -0.07977772876620293, -0.07149351574480534, -0.052854035049676895, -0.032143499702215195, -0.02593033853918314, -0.011432964587584138, -0.007290858076885343, -0.005219804123044014, -0.00314875110052526, 0.0009933559340424836, 0.0009933561086654663, 0.0030644098296761513, 0.009277570061385632, 0.01134862331673503, 0.01963283639634028, 0.021703890524804592, 0.02170389099046588, 0.03620126470923424, 0.03827231843024492, 0.05069863819517195, 0.05898285284638405, 0.06726706866174936]}, 'categories': {}, 'untouched': ['s2', 's3', 'bp', 's4', 'sex', 's1']}\n"
     ]
    }
   ],
   "source": [
    "# note that is_regression param is True\n",
    "gen = GeneralizeToRepresentative(model, target_accuracy=0.7, features=features, is_regression=True,\n",
    "                                 features_to_minimize=QI)\n",
    "gen.fit(X_train, pred)\n",
    "transformed = gen.transform(X_train)\n",
    "model.fit(transformed, y_train)\n",
    "print('Base model accuracy (R2 score) after anonymization: ', model.score(X_test, y_test))\n",
    "print(gen.generalizations_)"
   ],
   "metadata": {
    "collapsed": false,
    "pycharm": {
     "name": "#%%\n"
    }
   }
  }
 ],
 "metadata": {
  "kernelspec": {
   "display_name": "Python 3",
   "language": "python",
   "name": "python3"
  },
  "language_info": {
   "codemirror_mode": {
    "name": "ipython",
    "version": 2
   },
   "file_extension": ".py",
   "mimetype": "text/x-python",
   "name": "python",
   "nbconvert_exporter": "python",
   "pygments_lexer": "ipython2",
   "version": "2.7.6"
  }
 },
 "nbformat": 4,
 "nbformat_minor": 0
}